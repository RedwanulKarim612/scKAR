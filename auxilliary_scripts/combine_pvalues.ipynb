{
 "cells": [
  {
   "cell_type": "code",
   "execution_count": 2,
   "metadata": {},
   "outputs": [],
   "source": [
    "import pandas as pd \n",
    "import os\n",
    "import scipy.stats as stats"
   ]
  },
  {
   "cell_type": "code",
   "execution_count": 12,
   "metadata": {},
   "outputs": [],
   "source": [
    "contigs_file = '/media/supertramp/ssd_ratul/thesis/renal/fresh_run/final_results_no_ref_filter/contigs/abyss/B_contigs.tsv'\n",
    "kmers_file = '/media/supertramp/ssd_ratul/thesis/renal/fresh_run/final_results_no_ref_filter/contigs/bipartite_0_with_counts.csv'\n",
    "output_file = '/media/supertramp/ssd_ratul/thesis/renal/fresh_run/final_results_no_ref_filter/contigs/abyss/B_contigs_pvals.tsv'\n",
    "k = 31"
   ]
  },
  {
   "cell_type": "code",
   "execution_count": 4,
   "metadata": {},
   "outputs": [],
   "source": [
    "def get_all_kmers(contig, k=31):\n",
    "    kmers = []\n",
    "    for i in range(len(contig) - k + 1):\n",
    "        kmers.append(contig[i:i+k])\n",
    "    return kmers    "
   ]
  },
  {
   "cell_type": "code",
   "execution_count": 5,
   "metadata": {},
   "outputs": [],
   "source": [
    "def get_kmer_pvalues(kmers, kmers_df):\n",
    "    pvalues = []\n",
    "    for kmer in kmers:\n",
    "        if kmer in kmers_df.index:\n",
    "            pvalues.append(kmers_df.loc[kmer].padj)\n",
    "            \n",
    "    # print(stats.combine_pvalues(pvalues, method='fisher'))\n",
    "    # print(stats.combine_pvalues(pvalues, method='stouffer'))    \n",
    "    \n",
    "    # return pvalues\n",
    "    if len(pvalues) == 0:\n",
    "        return 1\n",
    "    return stats.combine_pvalues(pvalues, method='stouffer')[1]"
   ]
  },
  {
   "cell_type": "code",
   "execution_count": 8,
   "metadata": {},
   "outputs": [
    {
     "data": {
      "text/html": [
       "<div>\n",
       "<style scoped>\n",
       "    .dataframe tbody tr th:only-of-type {\n",
       "        vertical-align: middle;\n",
       "    }\n",
       "\n",
       "    .dataframe tbody tr th {\n",
       "        vertical-align: top;\n",
       "    }\n",
       "\n",
       "    .dataframe thead th {\n",
       "        text-align: right;\n",
       "    }\n",
       "</style>\n",
       "<table border=\"1\" class=\"dataframe\">\n",
       "  <thead>\n",
       "    <tr style=\"text-align: right;\">\n",
       "      <th></th>\n",
       "      <th>name</th>\n",
       "      <th>contig</th>\n",
       "      <th>len</th>\n",
       "    </tr>\n",
       "  </thead>\n",
       "  <tbody>\n",
       "    <tr>\n",
       "      <th>0</th>\n",
       "      <td>2</td>\n",
       "      <td>GGGGTGGCTCACGCCTGTAATCCC</td>\n",
       "      <td>24</td>\n",
       "    </tr>\n",
       "    <tr>\n",
       "      <th>1</th>\n",
       "      <td>3</td>\n",
       "      <td>GCCTTTATTGCAGCCCACCGGCGGCACTTCGAGGCAATCCGTGGC</td>\n",
       "      <td>45</td>\n",
       "    </tr>\n",
       "    <tr>\n",
       "      <th>2</th>\n",
       "      <td>8</td>\n",
       "      <td>GTTAAATTTACAAGGGGATTTAG</td>\n",
       "      <td>23</td>\n",
       "    </tr>\n",
       "    <tr>\n",
       "      <th>3</th>\n",
       "      <td>9</td>\n",
       "      <td>ACTGCAACCTCCACCTCCTGGGCTCAAGCAATTCT</td>\n",
       "      <td>35</td>\n",
       "    </tr>\n",
       "    <tr>\n",
       "      <th>4</th>\n",
       "      <td>17</td>\n",
       "      <td>TAATTTTTGTATTTTTAGTAGATACGGGGTTTCACCATGTTGGCC</td>\n",
       "      <td>45</td>\n",
       "    </tr>\n",
       "  </tbody>\n",
       "</table>\n",
       "</div>"
      ],
      "text/plain": [
       "   name                                         contig  len\n",
       "0     2                       GGGGTGGCTCACGCCTGTAATCCC   24\n",
       "1     3  GCCTTTATTGCAGCCCACCGGCGGCACTTCGAGGCAATCCGTGGC   45\n",
       "2     8                        GTTAAATTTACAAGGGGATTTAG   23\n",
       "3     9            ACTGCAACCTCCACCTCCTGGGCTCAAGCAATTCT   35\n",
       "4    17  TAATTTTTGTATTTTTAGTAGATACGGGGTTTCACCATGTTGGCC   45"
      ]
     },
     "execution_count": 8,
     "metadata": {},
     "output_type": "execute_result"
    }
   ],
   "source": [
    "contigs_df = pd.read_csv(contigs_file, sep='\\t')\n",
    "contigs_df['len'] = contigs_df['contig'].apply(len)\n",
    "contigs_df.head()"
   ]
  },
  {
   "cell_type": "code",
   "execution_count": 9,
   "metadata": {},
   "outputs": [],
   "source": [
    "contigs_df = contigs_df[contigs_df['len'] > 45]"
   ]
  },
  {
   "cell_type": "code",
   "execution_count": 10,
   "metadata": {},
   "outputs": [],
   "source": [
    "contigs_df['kmers'] = contigs_df['contig'].apply(lambda x: get_all_kmers(x, k))"
   ]
  },
  {
   "cell_type": "code",
   "execution_count": 16,
   "metadata": {},
   "outputs": [],
   "source": [
    "kmers_df = pd.read_csv(kmers_file, sep='\\t', index_col=0)"
   ]
  },
  {
   "cell_type": "code",
   "execution_count": 17,
   "metadata": {},
   "outputs": [],
   "source": [
    "kmers_df = kmers_df[['baseMean', 'log2FoldChange', 'lfcSE', 'stat', 'pvalue', 'padj']]"
   ]
  },
  {
   "cell_type": "code",
   "execution_count": 18,
   "metadata": {},
   "outputs": [
    {
     "data": {
      "text/html": [
       "<div>\n",
       "<style scoped>\n",
       "    .dataframe tbody tr th:only-of-type {\n",
       "        vertical-align: middle;\n",
       "    }\n",
       "\n",
       "    .dataframe tbody tr th {\n",
       "        vertical-align: top;\n",
       "    }\n",
       "\n",
       "    .dataframe thead th {\n",
       "        text-align: right;\n",
       "    }\n",
       "</style>\n",
       "<table border=\"1\" class=\"dataframe\">\n",
       "  <thead>\n",
       "    <tr style=\"text-align: right;\">\n",
       "      <th></th>\n",
       "      <th>baseMean</th>\n",
       "      <th>log2FoldChange</th>\n",
       "      <th>lfcSE</th>\n",
       "      <th>stat</th>\n",
       "      <th>pvalue</th>\n",
       "      <th>padj</th>\n",
       "    </tr>\n",
       "  </thead>\n",
       "  <tbody>\n",
       "    <tr>\n",
       "      <th>AAAAAAAAAAAAAAAAAAAAAAAAAAAAAAC</th>\n",
       "      <td>338.211078</td>\n",
       "      <td>-1.171705</td>\n",
       "      <td>0.0</td>\n",
       "      <td>76.250886</td>\n",
       "      <td>2.048840e-14</td>\n",
       "      <td>6.051529e-13</td>\n",
       "    </tr>\n",
       "    <tr>\n",
       "      <th>AAAAAAAAAAAAAAAAAAAAAAAAAAAAAAT</th>\n",
       "      <td>440.239842</td>\n",
       "      <td>-0.799920</td>\n",
       "      <td>0.0</td>\n",
       "      <td>39.749340</td>\n",
       "      <td>5.284981e-09</td>\n",
       "      <td>4.542567e-08</td>\n",
       "    </tr>\n",
       "    <tr>\n",
       "      <th>AAAAAAAAAAAAAAAAAAAAAAAAAAAAACA</th>\n",
       "      <td>293.571574</td>\n",
       "      <td>-1.143619</td>\n",
       "      <td>0.0</td>\n",
       "      <td>70.389939</td>\n",
       "      <td>1.272013e-13</td>\n",
       "      <td>2.827653e-12</td>\n",
       "    </tr>\n",
       "    <tr>\n",
       "      <th>AAAAAAAAAAAAAAAAAAAAAAAAAAAAAGA</th>\n",
       "      <td>776.437647</td>\n",
       "      <td>-0.871704</td>\n",
       "      <td>0.0</td>\n",
       "      <td>40.396480</td>\n",
       "      <td>4.129388e-09</td>\n",
       "      <td>3.626049e-08</td>\n",
       "    </tr>\n",
       "    <tr>\n",
       "      <th>AAAAAAAAAAAAAAAAAAAAAAAAAAAAAGT</th>\n",
       "      <td>37754.512462</td>\n",
       "      <td>-0.857907</td>\n",
       "      <td>0.0</td>\n",
       "      <td>47.945561</td>\n",
       "      <td>2.510876e-10</td>\n",
       "      <td>2.784244e-09</td>\n",
       "    </tr>\n",
       "  </tbody>\n",
       "</table>\n",
       "</div>"
      ],
      "text/plain": [
       "                                     baseMean  log2FoldChange  lfcSE  \\\n",
       "AAAAAAAAAAAAAAAAAAAAAAAAAAAAAAC    338.211078       -1.171705    0.0   \n",
       "AAAAAAAAAAAAAAAAAAAAAAAAAAAAAAT    440.239842       -0.799920    0.0   \n",
       "AAAAAAAAAAAAAAAAAAAAAAAAAAAAACA    293.571574       -1.143619    0.0   \n",
       "AAAAAAAAAAAAAAAAAAAAAAAAAAAAAGA    776.437647       -0.871704    0.0   \n",
       "AAAAAAAAAAAAAAAAAAAAAAAAAAAAAGT  37754.512462       -0.857907    0.0   \n",
       "\n",
       "                                      stat        pvalue          padj  \n",
       "AAAAAAAAAAAAAAAAAAAAAAAAAAAAAAC  76.250886  2.048840e-14  6.051529e-13  \n",
       "AAAAAAAAAAAAAAAAAAAAAAAAAAAAAAT  39.749340  5.284981e-09  4.542567e-08  \n",
       "AAAAAAAAAAAAAAAAAAAAAAAAAAAAACA  70.389939  1.272013e-13  2.827653e-12  \n",
       "AAAAAAAAAAAAAAAAAAAAAAAAAAAAAGA  40.396480  4.129388e-09  3.626049e-08  \n",
       "AAAAAAAAAAAAAAAAAAAAAAAAAAAAAGT  47.945561  2.510876e-10  2.784244e-09  "
      ]
     },
     "execution_count": 18,
     "metadata": {},
     "output_type": "execute_result"
    }
   ],
   "source": [
    "kmers_df.head()"
   ]
  },
  {
   "cell_type": "code",
   "execution_count": 20,
   "metadata": {},
   "outputs": [],
   "source": [
    "#change name of index column\n",
    "kmers_df.index.names = ['kmer']"
   ]
  },
  {
   "cell_type": "code",
   "execution_count": 21,
   "metadata": {},
   "outputs": [
    {
     "data": {
      "text/html": [
       "<div>\n",
       "<style scoped>\n",
       "    .dataframe tbody tr th:only-of-type {\n",
       "        vertical-align: middle;\n",
       "    }\n",
       "\n",
       "    .dataframe tbody tr th {\n",
       "        vertical-align: top;\n",
       "    }\n",
       "\n",
       "    .dataframe thead th {\n",
       "        text-align: right;\n",
       "    }\n",
       "</style>\n",
       "<table border=\"1\" class=\"dataframe\">\n",
       "  <thead>\n",
       "    <tr style=\"text-align: right;\">\n",
       "      <th></th>\n",
       "      <th>baseMean</th>\n",
       "      <th>log2FoldChange</th>\n",
       "      <th>lfcSE</th>\n",
       "      <th>stat</th>\n",
       "      <th>pvalue</th>\n",
       "      <th>padj</th>\n",
       "    </tr>\n",
       "    <tr>\n",
       "      <th>kmer</th>\n",
       "      <th></th>\n",
       "      <th></th>\n",
       "      <th></th>\n",
       "      <th></th>\n",
       "      <th></th>\n",
       "      <th></th>\n",
       "    </tr>\n",
       "  </thead>\n",
       "  <tbody>\n",
       "    <tr>\n",
       "      <th>AAAAAAAAAAAAAAAAAAAAAAAAAAAAAAC</th>\n",
       "      <td>338.211078</td>\n",
       "      <td>-1.171705</td>\n",
       "      <td>0.0</td>\n",
       "      <td>76.250886</td>\n",
       "      <td>2.048840e-14</td>\n",
       "      <td>6.051529e-13</td>\n",
       "    </tr>\n",
       "    <tr>\n",
       "      <th>AAAAAAAAAAAAAAAAAAAAAAAAAAAAAAT</th>\n",
       "      <td>440.239842</td>\n",
       "      <td>-0.799920</td>\n",
       "      <td>0.0</td>\n",
       "      <td>39.749340</td>\n",
       "      <td>5.284981e-09</td>\n",
       "      <td>4.542567e-08</td>\n",
       "    </tr>\n",
       "    <tr>\n",
       "      <th>AAAAAAAAAAAAAAAAAAAAAAAAAAAAACA</th>\n",
       "      <td>293.571574</td>\n",
       "      <td>-1.143619</td>\n",
       "      <td>0.0</td>\n",
       "      <td>70.389939</td>\n",
       "      <td>1.272013e-13</td>\n",
       "      <td>2.827653e-12</td>\n",
       "    </tr>\n",
       "    <tr>\n",
       "      <th>AAAAAAAAAAAAAAAAAAAAAAAAAAAAAGA</th>\n",
       "      <td>776.437647</td>\n",
       "      <td>-0.871704</td>\n",
       "      <td>0.0</td>\n",
       "      <td>40.396480</td>\n",
       "      <td>4.129388e-09</td>\n",
       "      <td>3.626049e-08</td>\n",
       "    </tr>\n",
       "    <tr>\n",
       "      <th>AAAAAAAAAAAAAAAAAAAAAAAAAAAAAGT</th>\n",
       "      <td>37754.512462</td>\n",
       "      <td>-0.857907</td>\n",
       "      <td>0.0</td>\n",
       "      <td>47.945561</td>\n",
       "      <td>2.510876e-10</td>\n",
       "      <td>2.784244e-09</td>\n",
       "    </tr>\n",
       "  </tbody>\n",
       "</table>\n",
       "</div>"
      ],
      "text/plain": [
       "                                     baseMean  log2FoldChange  lfcSE  \\\n",
       "kmer                                                                   \n",
       "AAAAAAAAAAAAAAAAAAAAAAAAAAAAAAC    338.211078       -1.171705    0.0   \n",
       "AAAAAAAAAAAAAAAAAAAAAAAAAAAAAAT    440.239842       -0.799920    0.0   \n",
       "AAAAAAAAAAAAAAAAAAAAAAAAAAAAACA    293.571574       -1.143619    0.0   \n",
       "AAAAAAAAAAAAAAAAAAAAAAAAAAAAAGA    776.437647       -0.871704    0.0   \n",
       "AAAAAAAAAAAAAAAAAAAAAAAAAAAAAGT  37754.512462       -0.857907    0.0   \n",
       "\n",
       "                                      stat        pvalue          padj  \n",
       "kmer                                                                    \n",
       "AAAAAAAAAAAAAAAAAAAAAAAAAAAAAAC  76.250886  2.048840e-14  6.051529e-13  \n",
       "AAAAAAAAAAAAAAAAAAAAAAAAAAAAAAT  39.749340  5.284981e-09  4.542567e-08  \n",
       "AAAAAAAAAAAAAAAAAAAAAAAAAAAAACA  70.389939  1.272013e-13  2.827653e-12  \n",
       "AAAAAAAAAAAAAAAAAAAAAAAAAAAAAGA  40.396480  4.129388e-09  3.626049e-08  \n",
       "AAAAAAAAAAAAAAAAAAAAAAAAAAAAAGT  47.945561  2.510876e-10  2.784244e-09  "
      ]
     },
     "execution_count": 21,
     "metadata": {},
     "output_type": "execute_result"
    }
   ],
   "source": [
    "kmers_df.head()"
   ]
  },
  {
   "cell_type": "code",
   "execution_count": 28,
   "metadata": {},
   "outputs": [],
   "source": [
    "kmers_df = kmers_df[kmers_df['padj'] < 0.05]"
   ]
  },
  {
   "cell_type": "code",
   "execution_count": 29,
   "metadata": {},
   "outputs": [],
   "source": [
    "kmers_df = kmers_df[abs(kmers_df['log2FoldChange']) >= 1]"
   ]
  },
  {
   "cell_type": "code",
   "execution_count": 30,
   "metadata": {},
   "outputs": [],
   "source": [
    "contigs_df['pvalue'] = contigs_df['kmers'].apply(lambda x: get_kmer_pvalues(x, kmers_df))"
   ]
  },
  {
   "cell_type": "code",
   "execution_count": 31,
   "metadata": {},
   "outputs": [],
   "source": [
    "contigs_df = contigs_df[contigs_df['pvalue'] < 0.05] "
   ]
  },
  {
   "cell_type": "code",
   "execution_count": 35,
   "metadata": {},
   "outputs": [],
   "source": [
    "contigs_df = contigs_df.sort_values('pvalue')"
   ]
  },
  {
   "cell_type": "code",
   "execution_count": 36,
   "metadata": {},
   "outputs": [],
   "source": [
    "contigs_df.to_csv(output_file, sep='\\t', index=False)"
   ]
  },
  {
   "cell_type": "code",
   "execution_count": 34,
   "metadata": {},
   "outputs": [
    {
     "data": {
      "text/html": [
       "<div>\n",
       "<style scoped>\n",
       "    .dataframe tbody tr th:only-of-type {\n",
       "        vertical-align: middle;\n",
       "    }\n",
       "\n",
       "    .dataframe tbody tr th {\n",
       "        vertical-align: top;\n",
       "    }\n",
       "\n",
       "    .dataframe thead th {\n",
       "        text-align: right;\n",
       "    }\n",
       "</style>\n",
       "<table border=\"1\" class=\"dataframe\">\n",
       "  <thead>\n",
       "    <tr style=\"text-align: right;\">\n",
       "      <th></th>\n",
       "      <th>name</th>\n",
       "      <th>contig</th>\n",
       "      <th>len</th>\n",
       "      <th>kmers</th>\n",
       "      <th>pvalue</th>\n",
       "    </tr>\n",
       "  </thead>\n",
       "  <tbody>\n",
       "    <tr>\n",
       "      <th>4475</th>\n",
       "      <td>7213</td>\n",
       "      <td>TTTGTACCTAAGTTTTTTAATGAGTGAAATTTGCATTATAAACTTT...</td>\n",
       "      <td>83</td>\n",
       "      <td>[TTTGTACCTAAGTTTTTTAATGAGTGAAATT, TTGTACCTAAGT...</td>\n",
       "      <td>0.011263</td>\n",
       "    </tr>\n",
       "    <tr>\n",
       "      <th>3803</th>\n",
       "      <td>6099</td>\n",
       "      <td>CTAATTTTTGTATTTTTAGTAGGGACGAGATTTCTCCATGTTGGTC...</td>\n",
       "      <td>52</td>\n",
       "      <td>[CTAATTTTTGTATTTTTAGTAGGGACGAGAT, TAATTTTTGTAT...</td>\n",
       "      <td>0.013180</td>\n",
       "    </tr>\n",
       "    <tr>\n",
       "      <th>1407</th>\n",
       "      <td>2282</td>\n",
       "      <td>GCCCCGCATACACCGGCGGCGATGGCGCTGTTCCGACCCACCATCT...</td>\n",
       "      <td>53</td>\n",
       "      <td>[GCCCCGCATACACCGGCGGCGATGGCGCTGT, CCCCGCATACAC...</td>\n",
       "      <td>0.013826</td>\n",
       "    </tr>\n",
       "    <tr>\n",
       "      <th>3711</th>\n",
       "      <td>5945</td>\n",
       "      <td>CCACTGCACTCCAGCCTAGGCAACAGAATGAGATCCTGTCTCACATT</td>\n",
       "      <td>47</td>\n",
       "      <td>[CCACTGCACTCCAGCCTAGGCAACAGAATGA, CACTGCACTCCA...</td>\n",
       "      <td>0.020828</td>\n",
       "    </tr>\n",
       "    <tr>\n",
       "      <th>693</th>\n",
       "      <td>1171</td>\n",
       "      <td>GCCTGGTATTTTTTAATCAAACAAAATATTTATGAAATGGGTTTTCT</td>\n",
       "      <td>47</td>\n",
       "      <td>[GCCTGGTATTTTTTAATCAAACAAAATATTT, CCTGGTATTTTT...</td>\n",
       "      <td>0.042602</td>\n",
       "    </tr>\n",
       "  </tbody>\n",
       "</table>\n",
       "</div>"
      ],
      "text/plain": [
       "      name                                             contig  len  \\\n",
       "4475  7213  TTTGTACCTAAGTTTTTTAATGAGTGAAATTTGCATTATAAACTTT...   83   \n",
       "3803  6099  CTAATTTTTGTATTTTTAGTAGGGACGAGATTTCTCCATGTTGGTC...   52   \n",
       "1407  2282  GCCCCGCATACACCGGCGGCGATGGCGCTGTTCCGACCCACCATCT...   53   \n",
       "3711  5945    CCACTGCACTCCAGCCTAGGCAACAGAATGAGATCCTGTCTCACATT   47   \n",
       "693   1171    GCCTGGTATTTTTTAATCAAACAAAATATTTATGAAATGGGTTTTCT   47   \n",
       "\n",
       "                                                  kmers    pvalue  \n",
       "4475  [TTTGTACCTAAGTTTTTTAATGAGTGAAATT, TTGTACCTAAGT...  0.011263  \n",
       "3803  [CTAATTTTTGTATTTTTAGTAGGGACGAGAT, TAATTTTTGTAT...  0.013180  \n",
       "1407  [GCCCCGCATACACCGGCGGCGATGGCGCTGT, CCCCGCATACAC...  0.013826  \n",
       "3711  [CCACTGCACTCCAGCCTAGGCAACAGAATGA, CACTGCACTCCA...  0.020828  \n",
       "693   [GCCTGGTATTTTTTAATCAAACAAAATATTT, CCTGGTATTTTT...  0.042602  "
      ]
     },
     "execution_count": 34,
     "metadata": {},
     "output_type": "execute_result"
    }
   ],
   "source": [
    "contigs_df.tail()"
   ]
  }
 ],
 "metadata": {
  "kernelspec": {
   "display_name": "Python 3",
   "language": "python",
   "name": "python3"
  },
  "language_info": {
   "codemirror_mode": {
    "name": "ipython",
    "version": 3
   },
   "file_extension": ".py",
   "mimetype": "text/x-python",
   "name": "python",
   "nbconvert_exporter": "python",
   "pygments_lexer": "ipython3",
   "version": "3.11.5"
  }
 },
 "nbformat": 4,
 "nbformat_minor": 2
}
